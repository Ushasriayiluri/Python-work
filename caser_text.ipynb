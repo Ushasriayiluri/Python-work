{
 "cells": [
  {
   "cell_type": "code",
   "execution_count": 12,
   "id": "a6f31a9d",
   "metadata": {},
   "outputs": [
    {
     "name": "stdout",
     "output_type": "stream",
     "text": [
      "Type encrypt for encryption and decrypt for decryptionencrypt\n",
      "Type your messageusha sri $\n",
      "Type you shift key2\n",
      "here is the text for encryption:wujc utk $\n",
      "type yes to continue and no to end yes\n",
      "Type encrypt for encryption and decrypt for decryptiondecrypt\n",
      "Type your messageusha sri$\n",
      "Type you shift key2\n",
      "here is the text for decryption:sqfy qpg$\n",
      "type yes to continue and no to end no\n",
      "have a nice day! good Bye...\n"
     ]
    }
   ],
   "source": [
    "alphabet=['a','b','c','d','e','f','g','h','i','j',\n",
    "        'k','l','m','n','o','p','q','r','s','t',\n",
    "         'u','v','w','x','y','z']\n",
    "\n",
    "def encryption(plain_text,shift_key):\n",
    "    chiper_text=\"\"\n",
    "    for char in plain_text:\n",
    "        if char in alphabet:\n",
    "            position=alphabet.index(char)\n",
    "            new_position=(position+shift_key)%26\n",
    "            chiper_text+=alphabet[new_position]\n",
    "        else:\n",
    "            chiper_text+=char\n",
    "    print(f\"here is the text for encryption:{chiper_text}\")\n",
    "        \n",
    "def decryption(chiper_text,shift_key):\n",
    "    plain_text=\"\"\n",
    "    for char in chiper_text:\n",
    "        if char in alphabet:\n",
    "            position=alphabet.index(char)\n",
    "            new_position=(position-shift_key)%26\n",
    "            plain_text+=alphabet[new_position]\n",
    "        else:\n",
    "            plain_text+=char\n",
    "    print(f\"here is the text for decryption:{plain_text}\")\n",
    "when_end=False\n",
    "while not when_end:\n",
    "    what_to_do=input(\"Type encrypt for encryption and decrypt for decryption\")\n",
    "    text=input((\"Type your message\"))\n",
    "    shift=int(input(\"Type you shift key\"))#if shift key is 2 then we encrypt the word shifting 2 words\n",
    "    if what_to_do==\"encrypt\":\n",
    "        encryption(plain_text=text,shift_key=shift)\n",
    "    elif what_to_do==\"decrypt\":\n",
    "        decryption(chiper_text=text,shift_key=shift)\n",
    "    play_again=input(\"type yes to continue and no to end \")\n",
    "    if play_again==\"no\":\n",
    "        when_end=True\n",
    "        print(\"have a nice day! good Bye...\")\n",
    "        "
   ]
  },
  {
   "cell_type": "code",
   "execution_count": null,
   "id": "6b36fa66",
   "metadata": {},
   "outputs": [],
   "source": []
  }
 ],
 "metadata": {
  "kernelspec": {
   "display_name": "Python 3 (ipykernel)",
   "language": "python",
   "name": "python3"
  },
  "language_info": {
   "codemirror_mode": {
    "name": "ipython",
    "version": 3
   },
   "file_extension": ".py",
   "mimetype": "text/x-python",
   "name": "python",
   "nbconvert_exporter": "python",
   "pygments_lexer": "ipython3",
   "version": "3.10.9"
  }
 },
 "nbformat": 4,
 "nbformat_minor": 5
}
