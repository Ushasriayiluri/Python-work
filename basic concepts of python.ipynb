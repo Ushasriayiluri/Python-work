{
 "cells": [
  {
   "cell_type": "markdown",
   "id": "4ded2f7c",
   "metadata": {},
   "source": [
    "# comparison operators"
   ]
  },
  {
   "cell_type": "code",
   "execution_count": 1,
   "id": "c69ab53f",
   "metadata": {},
   "outputs": [
    {
     "data": {
      "text/plain": [
       "False"
      ]
     },
     "execution_count": 1,
     "metadata": {},
     "output_type": "execute_result"
    }
   ],
   "source": [
    "1==2"
   ]
  },
  {
   "cell_type": "code",
   "execution_count": 2,
   "id": "292c5309",
   "metadata": {},
   "outputs": [
    {
     "data": {
      "text/plain": [
       "True"
      ]
     },
     "execution_count": 2,
     "metadata": {},
     "output_type": "execute_result"
    }
   ],
   "source": [
    "1==1"
   ]
  },
  {
   "cell_type": "code",
   "execution_count": 3,
   "id": "65fcc689",
   "metadata": {},
   "outputs": [
    {
     "data": {
      "text/plain": [
       "True"
      ]
     },
     "execution_count": 3,
     "metadata": {},
     "output_type": "execute_result"
    }
   ],
   "source": [
    "2>=1"
   ]
  },
  {
   "cell_type": "code",
   "execution_count": 4,
   "id": "3b6602c6",
   "metadata": {},
   "outputs": [
    {
     "data": {
      "text/plain": [
       "True"
      ]
     },
     "execution_count": 4,
     "metadata": {},
     "output_type": "execute_result"
    }
   ],
   "source": [
    "3<=5"
   ]
  },
  {
   "cell_type": "code",
   "execution_count": 5,
   "id": "5ca35740",
   "metadata": {},
   "outputs": [
    {
     "data": {
      "text/plain": [
       "True"
      ]
     },
     "execution_count": 5,
     "metadata": {},
     "output_type": "execute_result"
    }
   ],
   "source": [
    "5>4"
   ]
  },
  {
   "cell_type": "code",
   "execution_count": 6,
   "id": "25fa6879",
   "metadata": {},
   "outputs": [
    {
     "data": {
      "text/plain": [
       "False"
      ]
     },
     "execution_count": 6,
     "metadata": {},
     "output_type": "execute_result"
    }
   ],
   "source": [
    "5<4"
   ]
  },
  {
   "cell_type": "code",
   "execution_count": 7,
   "id": "92b98f51",
   "metadata": {},
   "outputs": [
    {
     "data": {
      "text/plain": [
       "False"
      ]
     },
     "execution_count": 7,
     "metadata": {},
     "output_type": "execute_result"
    }
   ],
   "source": [
    "3!=3"
   ]
  },
  {
   "cell_type": "code",
   "execution_count": 8,
   "id": "07715182",
   "metadata": {},
   "outputs": [
    {
     "data": {
      "text/plain": [
       "True"
      ]
     },
     "execution_count": 8,
     "metadata": {},
     "output_type": "execute_result"
    }
   ],
   "source": [
    "3!=4"
   ]
  },
  {
   "cell_type": "markdown",
   "id": "6b409235",
   "metadata": {},
   "source": [
    "CHAINING COMPARISON OPERATORS WITH LOGICAL OPERATORS IN PYTHON"
   ]
  },
  {
   "cell_type": "markdown",
   "id": "fe83269f",
   "metadata": {},
   "source": [
    "Logical operators are AND,OR,NOT"
   ]
  },
  {
   "cell_type": "code",
   "execution_count": 9,
   "id": "61dea969",
   "metadata": {},
   "outputs": [
    {
     "data": {
      "text/plain": [
       "True"
      ]
     },
     "execution_count": 9,
     "metadata": {},
     "output_type": "execute_result"
    }
   ],
   "source": [
    "1==1\n"
   ]
  },
  {
   "cell_type": "code",
   "execution_count": 10,
   "id": "3feed84a",
   "metadata": {},
   "outputs": [
    {
     "data": {
      "text/plain": [
       "True"
      ]
     },
     "execution_count": 10,
     "metadata": {},
     "output_type": "execute_result"
    }
   ],
   "source": [
    "1==1 and 2==2"
   ]
  },
  {
   "cell_type": "code",
   "execution_count": 11,
   "id": "04448e85",
   "metadata": {},
   "outputs": [
    {
     "data": {
      "text/plain": [
       "False"
      ]
     },
     "execution_count": 11,
     "metadata": {},
     "output_type": "execute_result"
    }
   ],
   "source": [
    "1!=1 and 2!=3"
   ]
  },
  {
   "cell_type": "code",
   "execution_count": 12,
   "id": "7b407c05",
   "metadata": {},
   "outputs": [
    {
     "data": {
      "text/plain": [
       "True"
      ]
     },
     "execution_count": 12,
     "metadata": {},
     "output_type": "execute_result"
    }
   ],
   "source": [
    "2==2 or 2!=2"
   ]
  },
  {
   "cell_type": "code",
   "execution_count": 13,
   "id": "f6066da3",
   "metadata": {},
   "outputs": [
    {
     "data": {
      "text/plain": [
       "False"
      ]
     },
     "execution_count": 13,
     "metadata": {},
     "output_type": "execute_result"
    }
   ],
   "source": [
    "2>4 or 2>13"
   ]
  },
  {
   "cell_type": "markdown",
   "id": "9a6181e7",
   "metadata": {},
   "source": [
    "T AND T==T     T OR T==T\n",
    "T AND F==F     T OR F==T     NOT T==F\n",
    "F AND T==F     F OR T==T     NOT F==T\n",
    "F AND F==F     F OR F==F"
   ]
  },
  {
   "cell_type": "code",
   "execution_count": 14,
   "id": "f75355bd",
   "metadata": {},
   "outputs": [
    {
     "data": {
      "text/plain": [
       "False"
      ]
     },
     "execution_count": 14,
     "metadata": {},
     "output_type": "execute_result"
    }
   ],
   "source": [
    "not 2==2"
   ]
  },
  {
   "cell_type": "code",
   "execution_count": 15,
   "id": "7dc8ce20",
   "metadata": {},
   "outputs": [
    {
     "data": {
      "text/plain": [
       "True"
      ]
     },
     "execution_count": 15,
     "metadata": {},
     "output_type": "execute_result"
    }
   ],
   "source": [
    "not 2!=2"
   ]
  },
  {
   "cell_type": "code",
   "execution_count": 16,
   "id": "31a93b81",
   "metadata": {},
   "outputs": [
    {
     "data": {
      "text/plain": [
       "False"
      ]
     },
     "execution_count": 16,
     "metadata": {},
     "output_type": "execute_result"
    }
   ],
   "source": [
    "2<3>4"
   ]
  },
  {
   "cell_type": "code",
   "execution_count": 17,
   "id": "fa9bd414",
   "metadata": {},
   "outputs": [
    {
     "data": {
      "text/plain": [
       "False"
      ]
     },
     "execution_count": 17,
     "metadata": {},
     "output_type": "execute_result"
    }
   ],
   "source": [
    "2<=3<=1"
   ]
  },
  {
   "cell_type": "markdown",
   "id": "c175b64f",
   "metadata": {},
   "source": [
    "# python statements"
   ]
  },
  {
   "cell_type": "markdown",
   "id": "26277328",
   "metadata": {},
   "source": [
    "IF,ELIF AND ELSE STATEMENTS"
   ]
  },
  {
   "cell_type": "markdown",
   "id": "a7b8c2af",
   "metadata": {},
   "source": [
    "control flow syntax makes use of colons and intendations\n",
    "this intendation is a crucial to python and is what sets its part from other programming languages"
   ]
  },
  {
   "cell_type": "markdown",
   "id": "7abd83b5",
   "metadata": {},
   "source": [
    "#syntax of IF condition\n",
    "if some_condition:\n",
    "    #execute some code"
   ]
  },
  {
   "cell_type": "code",
   "execution_count": 18,
   "id": "d5eb62be",
   "metadata": {},
   "outputs": [
    {
     "name": "stdout",
     "output_type": "stream",
     "text": [
      "True\n"
     ]
    }
   ],
   "source": [
    "if 5>0:\n",
    "    print('True')"
   ]
  },
  {
   "cell_type": "code",
   "execution_count": 19,
   "id": "8bd26260",
   "metadata": {},
   "outputs": [
    {
     "name": "stdout",
     "output_type": "stream",
     "text": [
      "True\n"
     ]
    }
   ],
   "source": [
    "if 5<0:\n",
    "    print('False')\n",
    "else:\n",
    "    print('True')"
   ]
  },
  {
   "cell_type": "code",
   "execution_count": 20,
   "id": "9b03ab18",
   "metadata": {},
   "outputs": [
    {
     "name": "stdout",
     "output_type": "stream",
     "text": [
      "relation is Love\n"
     ]
    }
   ],
   "source": [
    "Usha='Aru'\n",
    "if Usha=='Hai':\n",
    "    print('wishing')\n",
    "elif Usha=='Pam':\n",
    "    print('relation is Mother')\n",
    "elif Usha=='Aru':\n",
    "    print('relation is Love')"
   ]
  },
  {
   "cell_type": "code",
   "execution_count": 21,
   "id": "d92b5b28",
   "metadata": {},
   "outputs": [
    {
     "name": "stdout",
     "output_type": "stream",
     "text": [
      "True\n"
     ]
    }
   ],
   "source": [
    "a=100\n",
    "b=55\n",
    "c=35\n",
    "if (a>b and b>c):# In this condition if the 1st condition is TRUE it will print the  statement and exit from it> \n",
    "    print('True')\n",
    "elif (a>c):\n",
    "    print('True')\n",
    "else:\n",
    "    print('False')"
   ]
  },
  {
   "cell_type": "markdown",
   "id": "a5a18bb7",
   "metadata": {},
   "source": [
    "# FOR loop statements\n"
   ]
  },
  {
   "cell_type": "markdown",
   "id": "f154144d",
   "metadata": {},
   "source": [
    "Many objects in python are 'ITERABLE' meaning we can iterate over every element in the object\n",
    "such as every element in list or every character in a string\n",
    "we can use for loop to execute a block of code for every iteration.\n"
   ]
  },
  {
   "cell_type": "markdown",
   "id": "6af2ef2e",
   "metadata": {},
   "source": [
    "The Term 'Iterable' means you can Iterate over an object\n",
    "for example You can iterate a character in a string and an item in alist and key in an dictionary"
   ]
  },
  {
   "cell_type": "code",
   "execution_count": 22,
   "id": "e218af95",
   "metadata": {},
   "outputs": [
    {
     "name": "stdout",
     "output_type": "stream",
     "text": [
      "1\n",
      "2\n",
      "3\n",
      "4\n",
      "5\n"
     ]
    }
   ],
   "source": [
    "#SYNTAX\n",
    "My_List=[1,2,3,4,5]#LIST\n",
    "for items in My_List:#\"ITEMS\" is the iteration from the list\n",
    "    print(items)"
   ]
  },
  {
   "cell_type": "code",
   "execution_count": 23,
   "id": "7197428c",
   "metadata": {},
   "outputs": [
    {
     "name": "stdout",
     "output_type": "stream",
     "text": [
      "odd number: 1\n",
      "2\n",
      "odd number: 3\n",
      "4\n",
      "odd number: 5\n",
      "6\n",
      "odd number: 7\n",
      "8\n",
      "odd number: 9\n",
      "10\n"
     ]
    }
   ],
   "source": [
    "my_new_list=[1,2,3,4,5,6,7,8,9,10]\n",
    "for items in my_new_list:\n",
    "    if items%2==0:\n",
    "        print(items)\n",
    "    else:\n",
    "        print('odd number:',items)"
   ]
  },
  {
   "cell_type": "code",
   "execution_count": 24,
   "id": "db2546b8",
   "metadata": {},
   "outputs": [
    {
     "name": "stdout",
     "output_type": "stream",
     "text": [
      "H\n",
      "e\n",
      "l\n",
      "l\n",
      "o\n",
      " \n",
      "W\n",
      "o\n",
      "r\n",
      "l\n",
      "d\n"
     ]
    }
   ],
   "source": [
    "my_string='Hello World'\n",
    "for letters in my_string:\n",
    "    print(letters)"
   ]
  },
  {
   "cell_type": "code",
   "execution_count": 25,
   "id": "21c40047",
   "metadata": {},
   "outputs": [
    {
     "name": "stdout",
     "output_type": "stream",
     "text": [
      "1\n",
      "3\n",
      "6\n",
      "10\n",
      "15\n",
      "21\n",
      "28\n",
      "36\n",
      "45\n",
      "45\n"
     ]
    }
   ],
   "source": [
    "l=[1,2,3,4,5,6,7,8,9]\n",
    "i=0\n",
    "for n in l:\n",
    "    i=i+n\n",
    "    print(i)\n",
    "print(i)"
   ]
  },
  {
   "cell_type": "code",
   "execution_count": 26,
   "id": "6aafe890",
   "metadata": {},
   "outputs": [
    {
     "name": "stdout",
     "output_type": "stream",
     "text": [
      "H\n",
      "e\n",
      "l\n",
      "l\n",
      "o\n",
      " \n",
      "W\n",
      "o\n",
      "r\n",
      "l\n",
      "d\n"
     ]
    }
   ],
   "source": [
    "string='Hello World'\n",
    "for ch in string:# ch reads every charater in string\n",
    "    print(ch)"
   ]
  },
  {
   "cell_type": "code",
   "execution_count": 27,
   "id": "6518fdcc",
   "metadata": {},
   "outputs": [
    {
     "name": "stdout",
     "output_type": "stream",
     "text": [
      "cool!\n",
      "cool!\n",
      "cool!\n",
      "cool!\n",
      "cool!\n",
      "cool!\n",
      "cool!\n",
      "cool!\n",
      "cool!\n",
      "cool!\n",
      "cool!\n"
     ]
    }
   ],
   "source": [
    "string='Hello World'\n",
    "for ch in string:\n",
    "    print('cool!')#ch reads every character but it will not print because we didnt print it\n",
    "    #but it prints any string mention inside the loop to print \"ch\" times"
   ]
  },
  {
   "cell_type": "code",
   "execution_count": 28,
   "id": "881127a9",
   "metadata": {},
   "outputs": [
    {
     "name": "stdout",
     "output_type": "stream",
     "text": [
      "1\n",
      "2\n",
      "3\n"
     ]
    }
   ],
   "source": [
    "tup=(1,2,3)\n",
    "for i in tup:\n",
    "    print(i)"
   ]
  },
  {
   "cell_type": "code",
   "execution_count": 29,
   "id": "134c27e0",
   "metadata": {},
   "outputs": [
    {
     "name": "stdout",
     "output_type": "stream",
     "text": [
      "(1, 2)\n",
      "(3, 4)\n",
      "(5, 6)\n",
      "(7, 8)\n"
     ]
    }
   ],
   "source": [
    "mylist=[(1,2),(3,4),(5,6),(7,8)]#tuple in list unpacking\n",
    "for t in mylist:\n",
    "    print(t)"
   ]
  },
  {
   "cell_type": "code",
   "execution_count": 30,
   "id": "cce430f4",
   "metadata": {},
   "outputs": [
    {
     "name": "stdout",
     "output_type": "stream",
     "text": [
      "1\n",
      "2\n",
      "3\n",
      "4\n",
      "5\n",
      "6\n",
      "7\n",
      "8\n"
     ]
    }
   ],
   "source": [
    "mylist=[(1,2),(3,4),(5,6),(7,8)]#tuple in list unpacking\n",
    "for (a,b) in mylist:\n",
    "    print(a)\n",
    "    print(b)"
   ]
  },
  {
   "cell_type": "code",
   "execution_count": 31,
   "id": "022a5bdd",
   "metadata": {},
   "outputs": [
    {
     "name": "stdout",
     "output_type": "stream",
     "text": [
      "1\n",
      "3\n",
      "5\n",
      "7\n"
     ]
    }
   ],
   "source": [
    "mylist=[(1,2),(3,4),(5,6),(7,8)]#tuple in list unpacking\n",
    "for (a,b) in mylist:\n",
    "    print(a)"
   ]
  },
  {
   "cell_type": "code",
   "execution_count": 32,
   "id": "ced6509c",
   "metadata": {},
   "outputs": [],
   "source": [
    "myl=[(1,2,3),(4,5,6),(7,8,9)]"
   ]
  },
  {
   "cell_type": "code",
   "execution_count": 33,
   "id": "af889f91",
   "metadata": {},
   "outputs": [
    {
     "name": "stdout",
     "output_type": "stream",
     "text": [
      "(1, 2, 3)\n",
      "(4, 5, 6)\n",
      "(7, 8, 9)\n"
     ]
    }
   ],
   "source": [
    "for item in myl:\n",
    "    print(item)"
   ]
  },
  {
   "cell_type": "code",
   "execution_count": 34,
   "id": "3cd3875a",
   "metadata": {},
   "outputs": [
    {
     "name": "stdout",
     "output_type": "stream",
     "text": [
      "1\n",
      "2\n",
      "3\n",
      "4\n",
      "5\n",
      "6\n",
      "7\n",
      "8\n",
      "9\n"
     ]
    }
   ],
   "source": [
    "for a,b,c in myl:\n",
    "    print(a)\n",
    "    print(b)\n",
    "    print(c)"
   ]
  },
  {
   "cell_type": "code",
   "execution_count": 35,
   "id": "b61a1972",
   "metadata": {},
   "outputs": [],
   "source": [
    "d={'K1':1,'k2':2,'k3':3}"
   ]
  },
  {
   "cell_type": "code",
   "execution_count": 36,
   "id": "a2b66190",
   "metadata": {},
   "outputs": [
    {
     "name": "stdout",
     "output_type": "stream",
     "text": [
      "K1\n",
      "k2\n",
      "k3\n"
     ]
    }
   ],
   "source": [
    "for items in d:\n",
    "    print(items)"
   ]
  },
  {
   "cell_type": "code",
   "execution_count": 37,
   "id": "1573c85c",
   "metadata": {},
   "outputs": [
    {
     "name": "stdout",
     "output_type": "stream",
     "text": [
      "('K1', 1)\n",
      "('k2', 2)\n",
      "('k3', 3)\n"
     ]
    }
   ],
   "source": [
    "for items in d.items():\n",
    "    print(items)"
   ]
  },
  {
   "cell_type": "code",
   "execution_count": 38,
   "id": "b833b126",
   "metadata": {},
   "outputs": [
    {
     "name": "stdout",
     "output_type": "stream",
     "text": [
      "1\n",
      "2\n",
      "3\n"
     ]
    }
   ],
   "source": [
    "for key,value in d:\n",
    "    print(value)"
   ]
  },
  {
   "cell_type": "code",
   "execution_count": 39,
   "id": "27a03470",
   "metadata": {},
   "outputs": [
    {
     "name": "stdout",
     "output_type": "stream",
     "text": [
      "1\n",
      "2\n",
      "3\n"
     ]
    }
   ],
   "source": [
    "for value in d.values():\n",
    "    print(value)"
   ]
  },
  {
   "cell_type": "markdown",
   "id": "a03fbda5",
   "metadata": {},
   "source": [
    "while loop will continue to execute block of code untill some condition is going to be true"
   ]
  },
  {
   "cell_type": "markdown",
   "id": "230ca3fb",
   "metadata": {},
   "source": [
    "while some_boolean_condition:\n",
    "    #do something"
   ]
  },
  {
   "cell_type": "markdown",
   "id": "2b5f31c8",
   "metadata": {},
   "source": [
    "while some_boolean_condition:\n",
    "    #do somethong\n",
    "else:                      SYNTAX\n",
    "    #do something"
   ]
  },
  {
   "cell_type": "code",
   "execution_count": 40,
   "id": "dd4606ed",
   "metadata": {},
   "outputs": [
    {
     "name": "stdout",
     "output_type": "stream",
     "text": [
      "the current value of x is 0\n",
      "the current value of x is 1\n",
      "the current value of x is 2\n",
      "the current value of x is 3\n",
      "the current value of x is 4\n"
     ]
    }
   ],
   "source": [
    "X=0\n",
    "while X<5:\n",
    "    print(f'the current value of x is {X}')\n",
    "    X+=1"
   ]
  },
  {
   "cell_type": "code",
   "execution_count": 41,
   "id": "cbc67dcc",
   "metadata": {},
   "outputs": [
    {
     "name": "stdout",
     "output_type": "stream",
     "text": [
      "the current value of x is 0\n",
      "the current value of x is 1\n",
      "the current value of x is 2\n",
      "the current value of x is 3\n",
      "the current value of x is 4\n",
      "X is not less than 5\n"
     ]
    }
   ],
   "source": [
    "X=0\n",
    "while X<5:\n",
    "    print(f'the current value of x is {X}')\n",
    "    X=X+1\n",
    "else:\n",
    "    print('X is not less than 5')"
   ]
  },
  {
   "cell_type": "markdown",
   "id": "b27d570e",
   "metadata": {},
   "source": [
    "# BREAK, PASS, CONTINUE\n",
    "Break,Pass,Continue statements in our loops to add functionality for various cases, these three are defined by\n",
    "break: break out the current closest enclosing loop.\n",
    "continue: goes to the top of the closest enclosing loop.#\n",
    "pass: does nothing at all.\n"
   ]
  },
  {
   "cell_type": "code",
   "execution_count": 42,
   "id": "db3ec003",
   "metadata": {},
   "outputs": [
    {
     "ename": "IndentationError",
     "evalue": "expected an indented block (2703208961.py, line 4)",
     "output_type": "error",
     "traceback": [
      "\u001b[1;36m  Input \u001b[1;32mIn [42]\u001b[1;36m\u001b[0m\n\u001b[1;33m    #comment if we want to print nothing in for loop we we use comment it shows error\u001b[0m\n\u001b[1;37m                                                                                     ^\u001b[0m\n\u001b[1;31mIndentationError\u001b[0m\u001b[1;31m:\u001b[0m expected an indented block\n"
     ]
    }
   ],
   "source": [
    "#PASS\n",
    "a=[1,2,3]\n",
    "for l in a:\n",
    "    #comment if we want to print nothing in for loop we we use comment it shows error"
   ]
  },
  {
   "cell_type": "code",
   "execution_count": 43,
   "id": "62e54892",
   "metadata": {},
   "outputs": [],
   "source": [
    "#PASS\n",
    "a=[1,2,3]\n",
    "for l in a:#to leave idel without printing for loop we can use pass keyword for not to print error\n",
    "    pass\n",
    "  "
   ]
  },
  {
   "cell_type": "code",
   "execution_count": 44,
   "id": "a3516be0",
   "metadata": {},
   "outputs": [
    {
     "name": "stdout",
     "output_type": "stream",
     "text": [
      "U\n",
      "S\n",
      "H\n"
     ]
    }
   ],
   "source": [
    "stri='USHA SRI'\n",
    "for s in stri:\n",
    "    if s=='A':#it breaks at specified or mentioned path\n",
    "        break\n",
    "    print(s)"
   ]
  },
  {
   "cell_type": "code",
   "execution_count": 45,
   "id": "cbef4331",
   "metadata": {},
   "outputs": [
    {
     "name": "stdout",
     "output_type": "stream",
     "text": [
      "U\n",
      "S\n",
      "H\n",
      " \n",
      "S\n",
      "R\n",
      "I\n"
     ]
    }
   ],
   "source": [
    "stri='USHA SRI'\n",
    "for s in stri:\n",
    "    if s=='A':\n",
    "        continue #it escapes the letter or values mentioned in the conditon\n",
    "    print(s)"
   ]
  },
  {
   "cell_type": "code",
   "execution_count": 46,
   "id": "4a26b479",
   "metadata": {},
   "outputs": [
    {
     "name": "stdout",
     "output_type": "stream",
     "text": [
      "0\n",
      "1\n",
      "2\n"
     ]
    }
   ],
   "source": [
    "x=0\n",
    "while x<5:\n",
    "    if x==3:\n",
    "        break #break statement stops at certain condition if we want to exit loop according to the condition \n",
    "    print(x)\n",
    "    x=x+1"
   ]
  },
  {
   "cell_type": "markdown",
   "id": "fd699ae6",
   "metadata": {},
   "source": [
    "usefull operators in python"
   ]
  },
  {
   "cell_type": "code",
   "execution_count": 47,
   "id": "13c7f309",
   "metadata": {},
   "outputs": [
    {
     "name": "stdout",
     "output_type": "stream",
     "text": [
      "0\n",
      "1\n",
      "2\n",
      "3\n",
      "4\n",
      "5\n",
      "6\n",
      "7\n",
      "8\n",
      "9\n"
     ]
    }
   ],
   "source": [
    "for num in range(0,10):\n",
    "    print(num)#RANGE IS THE FUNCTION OR OPERATOR"
   ]
  },
  {
   "cell_type": "code",
   "execution_count": 48,
   "id": "af4c6633",
   "metadata": {},
   "outputs": [
    {
     "name": "stdout",
     "output_type": "stream",
     "text": [
      "0\n",
      "2\n",
      "4\n",
      "6\n",
      "8\n",
      "10\n",
      "12\n",
      "14\n",
      "16\n",
      "18\n",
      "20\n",
      "22\n",
      "24\n",
      "26\n",
      "28\n",
      "30\n",
      "32\n",
      "34\n",
      "36\n",
      "38\n",
      "40\n",
      "42\n",
      "44\n",
      "46\n",
      "48\n"
     ]
    }
   ],
   "source": [
    "for num in range(0,50):\n",
    "    if num%2==0:\n",
    "        print(num)"
   ]
  },
  {
   "cell_type": "code",
   "execution_count": 49,
   "id": "f6825011",
   "metadata": {},
   "outputs": [
    {
     "name": "stdout",
     "output_type": "stream",
     "text": [
      "index 0 is for letter a\n",
      "index 1 is for letter b\n",
      "index 2 is for letter c\n",
      "index 3 is for letter d\n",
      "index 4 is for letter e\n"
     ]
    }
   ],
   "source": [
    "index_count=0\n",
    "for letter in 'abcde':\n",
    "    print(f'index {index_count} is for letter {letter}')\n",
    "    index_count+=1"
   ]
  },
  {
   "cell_type": "code",
   "execution_count": 50,
   "id": "23fca272",
   "metadata": {},
   "outputs": [
    {
     "name": "stdout",
     "output_type": "stream",
     "text": [
      "a\n",
      "b\n",
      "c\n",
      "d\n",
      "e\n"
     ]
    }
   ],
   "source": [
    "index_count=0\n",
    "word='abcde'\n",
    "for letter in word:\n",
    "    print(word[index_count])\n",
    "    index_count+=1"
   ]
  },
  {
   "cell_type": "code",
   "execution_count": 51,
   "id": "f3741cc5",
   "metadata": {},
   "outputs": [
    {
     "data": {
      "text/plain": [
       "range(0, 11, 2)"
      ]
     },
     "execution_count": 51,
     "metadata": {},
     "output_type": "execute_result"
    }
   ],
   "source": [
    "range(0,11,2)#(start,stop,step)"
   ]
  },
  {
   "cell_type": "code",
   "execution_count": 52,
   "id": "05ae7da5",
   "metadata": {},
   "outputs": [
    {
     "name": "stdout",
     "output_type": "stream",
     "text": [
      "0\n",
      "2\n",
      "4\n",
      "6\n",
      "8\n",
      "10\n"
     ]
    }
   ],
   "source": [
    "for num in range(0,11,2):\n",
    "    print(num)"
   ]
  },
  {
   "cell_type": "code",
   "execution_count": 53,
   "id": "b9a0dfec",
   "metadata": {},
   "outputs": [
    {
     "data": {
      "text/plain": [
       "[0, 1, 2, 3, 4, 5, 6, 7, 8, 9]"
      ]
     },
     "execution_count": 53,
     "metadata": {},
     "output_type": "execute_result"
    }
   ],
   "source": [
    "list(range(0,10))"
   ]
  },
  {
   "cell_type": "code",
   "execution_count": 54,
   "id": "c83f476b",
   "metadata": {},
   "outputs": [
    {
     "data": {
      "text/plain": [
       "(0, 1, 2, 3, 4)"
      ]
     },
     "execution_count": 54,
     "metadata": {},
     "output_type": "execute_result"
    }
   ],
   "source": [
    "tuple(range(0,5))"
   ]
  },
  {
   "cell_type": "code",
   "execution_count": 55,
   "id": "fc7c7428",
   "metadata": {},
   "outputs": [
    {
     "data": {
      "text/plain": [
       "{0, 1, 2, 3, 4}"
      ]
     },
     "execution_count": 55,
     "metadata": {},
     "output_type": "execute_result"
    }
   ],
   "source": [
    "set(range(0,5))"
   ]
  },
  {
   "cell_type": "code",
   "execution_count": 56,
   "id": "4af2e45a",
   "metadata": {},
   "outputs": [
    {
     "name": "stdout",
     "output_type": "stream",
     "text": [
      "(0, 'a')\n",
      "(1, 'b')\n",
      "(2, 'c')\n",
      "(3, 'd')\n",
      "(4, 'e')\n"
     ]
    }
   ],
   "source": [
    "word='abcde'\n",
    "for num in enumerate(word): #enumarate is a key word which prints output of its index and object\n",
    "    print(num)"
   ]
  },
  {
   "cell_type": "code",
   "execution_count": 57,
   "id": "fa60244d",
   "metadata": {},
   "outputs": [
    {
     "name": "stdout",
     "output_type": "stream",
     "text": [
      "0\n",
      "a\n",
      "\n",
      "\n",
      "1\n",
      "b\n",
      "\n",
      "\n",
      "2\n",
      "c\n",
      "\n",
      "\n",
      "3\n",
      "d\n",
      "\n",
      "\n",
      "4\n",
      "e\n",
      "\n",
      "\n"
     ]
    }
   ],
   "source": [
    "word='abcde'\n",
    "for index,letter in enumerate(word): #enumarate is a key word which prints output of its index and object\n",
    "    print(index)\n",
    "    print(letter)#we can seperately print the index and object \n",
    "    print('\\n')"
   ]
  },
  {
   "cell_type": "markdown",
   "id": "c15c71bf",
   "metadata": {},
   "source": [
    "# zip() function"
   ]
  },
  {
   "cell_type": "markdown",
   "id": "ed2a6f31",
   "metadata": {},
   "source": [
    "zip() is similar to enumerate function in this list is output as tuple"
   ]
  },
  {
   "cell_type": "code",
   "execution_count": 58,
   "id": "6da484be",
   "metadata": {},
   "outputs": [
    {
     "name": "stdout",
     "output_type": "stream",
     "text": [
      "(1, 'a', 100)\n",
      "(2, 'b', 200)\n",
      "(3, 'c', 300)\n"
     ]
    }
   ],
   "source": [
    "l=[1,2,3]\n",
    "l1=['a','b','c']\n",
    "l2=[100,200,300]\n",
    "for item in zip(l,l1,l2):\n",
    "    print(item)"
   ]
  },
  {
   "cell_type": "code",
   "execution_count": 59,
   "id": "fba1648c",
   "metadata": {},
   "outputs": [
    {
     "name": "stdout",
     "output_type": "stream",
     "text": [
      "(1, 'a', 100)\n",
      "(2, 'b', 200)\n",
      "(3, 'c', 300)\n"
     ]
    }
   ],
   "source": [
    "l=[1,2,3,4,5]\n",
    "l1=['a','b','c']\n",
    "l2=[100,200,300]\n",
    "for item in zip(l,l1,l2):\n",
    "    print(item)"
   ]
  },
  {
   "cell_type": "code",
   "execution_count": 60,
   "id": "fec5e607",
   "metadata": {},
   "outputs": [
    {
     "data": {
      "text/plain": [
       "[(1, 'a', 100), (2, 'b', 200), (3, 'c', 300)]"
      ]
     },
     "execution_count": 60,
     "metadata": {},
     "output_type": "execute_result"
    }
   ],
   "source": [
    "list(zip(l,l1,l2))#we are upacking the list into tupele and packed as again tuple"
   ]
  },
  {
   "cell_type": "code",
   "execution_count": 61,
   "id": "9d6abe1e",
   "metadata": {},
   "outputs": [
    {
     "data": {
      "text/plain": [
       "False"
      ]
     },
     "execution_count": 61,
     "metadata": {},
     "output_type": "execute_result"
    }
   ],
   "source": [
    "'x' in [1,2,3]"
   ]
  },
  {
   "cell_type": "code",
   "execution_count": 62,
   "id": "de5ca71f",
   "metadata": {},
   "outputs": [
    {
     "data": {
      "text/plain": [
       "True"
      ]
     },
     "execution_count": 62,
     "metadata": {},
     "output_type": "execute_result"
    }
   ],
   "source": [
    "'x' in ['x','y','z']"
   ]
  },
  {
   "cell_type": "code",
   "execution_count": 63,
   "id": "a4dc6104",
   "metadata": {},
   "outputs": [
    {
     "data": {
      "text/plain": [
       "True"
      ]
     },
     "execution_count": 63,
     "metadata": {},
     "output_type": "execute_result"
    }
   ],
   "source": [
    "'a' in 'Usha'"
   ]
  },
  {
   "cell_type": "code",
   "execution_count": 64,
   "id": "8a8c7494",
   "metadata": {},
   "outputs": [
    {
     "data": {
      "text/plain": [
       "True"
      ]
     },
     "execution_count": 64,
     "metadata": {},
     "output_type": "execute_result"
    }
   ],
   "source": [
    "'k1' in {'k1':100}"
   ]
  },
  {
   "cell_type": "code",
   "execution_count": 65,
   "id": "c6a85348",
   "metadata": {},
   "outputs": [
    {
     "data": {
      "text/plain": [
       "True"
      ]
     },
     "execution_count": 65,
     "metadata": {},
     "output_type": "execute_result"
    }
   ],
   "source": [
    "d={'k1':100}\n",
    "'k1' in d.keys()"
   ]
  },
  {
   "cell_type": "code",
   "execution_count": 66,
   "id": "3620bc66",
   "metadata": {},
   "outputs": [
    {
     "data": {
      "text/plain": [
       "False"
      ]
     },
     "execution_count": 66,
     "metadata": {},
     "output_type": "execute_result"
    }
   ],
   "source": [
    "d={'k1':100}\n",
    "'k1' in d.values()#THIS IS ABOUT **IN** OPERATOR"
   ]
  },
  {
   "cell_type": "code",
   "execution_count": 67,
   "id": "624e498e",
   "metadata": {},
   "outputs": [],
   "source": [
    "from random import shuffle"
   ]
  },
  {
   "cell_type": "code",
   "execution_count": 68,
   "id": "b672445e",
   "metadata": {},
   "outputs": [],
   "source": [
    "list1=[1,3,4,2,6,8,5,9,12,10]"
   ]
  },
  {
   "cell_type": "code",
   "execution_count": 69,
   "id": "5e1445d0",
   "metadata": {},
   "outputs": [],
   "source": [
    "shuffle(list1)#SHUFFLE IS USED TO SHUFFLE THE NUMBERS IN LIST"
   ]
  },
  {
   "cell_type": "code",
   "execution_count": 70,
   "id": "4e08fc1d",
   "metadata": {},
   "outputs": [
    {
     "data": {
      "text/plain": [
       "[10, 3, 9, 8, 4, 1, 5, 6, 12, 2]"
      ]
     },
     "execution_count": 70,
     "metadata": {},
     "output_type": "execute_result"
    }
   ],
   "source": [
    "list1"
   ]
  },
  {
   "cell_type": "code",
   "execution_count": 71,
   "id": "287f5b1b",
   "metadata": {},
   "outputs": [
    {
     "data": {
      "text/plain": [
       "12"
      ]
     },
     "execution_count": 71,
     "metadata": {},
     "output_type": "execute_result"
    }
   ],
   "source": [
    "max(list1)"
   ]
  },
  {
   "cell_type": "code",
   "execution_count": 72,
   "id": "e44f6f1c",
   "metadata": {},
   "outputs": [
    {
     "data": {
      "text/plain": [
       "1"
      ]
     },
     "execution_count": 72,
     "metadata": {},
     "output_type": "execute_result"
    }
   ],
   "source": [
    "min(list1)"
   ]
  },
  {
   "cell_type": "code",
   "execution_count": 73,
   "id": "6fecb967",
   "metadata": {},
   "outputs": [],
   "source": [
    "from random import randint#**RANDINT PRINTS THE RANDOM INTEGER FROM GIVEN RANGE"
   ]
  },
  {
   "cell_type": "code",
   "execution_count": 74,
   "id": "b0b3b19a",
   "metadata": {},
   "outputs": [
    {
     "data": {
      "text/plain": [
       "81"
      ]
     },
     "execution_count": 74,
     "metadata": {},
     "output_type": "execute_result"
    }
   ],
   "source": [
    "randint(0,100)"
   ]
  },
  {
   "cell_type": "code",
   "execution_count": 75,
   "id": "b4ee1a56",
   "metadata": {},
   "outputs": [
    {
     "data": {
      "text/plain": [
       "40"
      ]
     },
     "execution_count": 75,
     "metadata": {},
     "output_type": "execute_result"
    }
   ],
   "source": [
    "randint(0,50)"
   ]
  },
  {
   "cell_type": "markdown",
   "id": "eff52692",
   "metadata": {},
   "source": [
    "# INPUT IS AN  FUNCTION IT RETURNS STRING INBULTY "
   ]
  },
  {
   "cell_type": "code",
   "execution_count": null,
   "id": "cdfc672c",
   "metadata": {
    "scrolled": true
   },
   "outputs": [],
   "source": [
    "input('the output is ')"
   ]
  },
  {
   "cell_type": "code",
   "execution_count": 6,
   "id": "fb2c1c00",
   "metadata": {},
   "outputs": [
    {
     "name": "stdout",
     "output_type": "stream",
     "text": [
      "the value is10\n",
      "20\n"
     ]
    }
   ],
   "source": [
    "a=int(input('the value is'))\n",
    "print(a+10)"
   ]
  },
  {
   "cell_type": "code",
   "execution_count": null,
   "id": "c6fd927e",
   "metadata": {},
   "outputs": [],
   "source": [
    "print(a)"
   ]
  },
  {
   "cell_type": "code",
   "execution_count": 4,
   "id": "260a8bf2",
   "metadata": {},
   "outputs": [],
   "source": [
    "a=10\n",
    "b=20\n"
   ]
  },
  {
   "cell_type": "code",
   "execution_count": 5,
   "id": "26c74e09",
   "metadata": {},
   "outputs": [
    {
     "name": "stdout",
     "output_type": "stream",
     "text": [
      "30\n"
     ]
    }
   ],
   "source": [
    "print(a+b)"
   ]
  },
  {
   "cell_type": "code",
   "execution_count": 7,
   "id": "beec2e80",
   "metadata": {},
   "outputs": [
    {
     "name": "stdout",
     "output_type": "stream",
     "text": [
      "the marks is 100\n"
     ]
    }
   ],
   "source": [
    "result=input('the marks is ')"
   ]
  },
  {
   "cell_type": "code",
   "execution_count": 8,
   "id": "1e9cbf39",
   "metadata": {},
   "outputs": [
    {
     "name": "stdout",
     "output_type": "stream",
     "text": [
      "100\n"
     ]
    }
   ],
   "source": [
    "print(result)"
   ]
  },
  {
   "cell_type": "code",
   "execution_count": 9,
   "id": "4fa8126c",
   "metadata": {},
   "outputs": [
    {
     "data": {
      "text/plain": [
       "str"
      ]
     },
     "execution_count": 9,
     "metadata": {},
     "output_type": "execute_result"
    }
   ],
   "source": [
    "type(result)#type shows string if the input is also numeric because by default INPUT IS string"
   ]
  },
  {
   "cell_type": "code",
   "execution_count": 10,
   "id": "8df6c356",
   "metadata": {},
   "outputs": [
    {
     "data": {
      "text/plain": [
       "100"
      ]
     },
     "execution_count": 10,
     "metadata": {},
     "output_type": "execute_result"
    }
   ],
   "source": [
    "int(result)#we can change the default type by mentioning the datatype to input"
   ]
  },
  {
   "cell_type": "code",
   "execution_count": 11,
   "id": "5269febf",
   "metadata": {},
   "outputs": [
    {
     "data": {
      "text/plain": [
       "100.0"
      ]
     },
     "execution_count": 11,
     "metadata": {},
     "output_type": "execute_result"
    }
   ],
   "source": [
    "float(result)"
   ]
  },
  {
   "cell_type": "code",
   "execution_count": null,
   "id": "450271c9",
   "metadata": {},
   "outputs": [],
   "source": []
  }
 ],
 "metadata": {
  "kernelspec": {
   "display_name": "Python 3 (ipykernel)",
   "language": "python",
   "name": "python3"
  },
  "language_info": {
   "codemirror_mode": {
    "name": "ipython",
    "version": 3
   },
   "file_extension": ".py",
   "mimetype": "text/x-python",
   "name": "python",
   "nbconvert_exporter": "python",
   "pygments_lexer": "ipython3",
   "version": "3.9.12"
  }
 },
 "nbformat": 4,
 "nbformat_minor": 5
}
