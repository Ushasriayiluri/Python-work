{
 "cells": [
  {
   "cell_type": "markdown",
   "id": "2046638e",
   "metadata": {},
   "source": [
    "generating a password by using python code   EASY MODE\n"
   ]
  },
  {
   "cell_type": "code",
   "execution_count": 1,
   "id": "a9bad671",
   "metadata": {},
   "outputs": [],
   "source": [
    "import random"
   ]
  },
  {
   "cell_type": "code",
   "execution_count": 2,
   "id": "46d8ca7b",
   "metadata": {},
   "outputs": [],
   "source": [
    "letters=['a','b','c','d','e','f','g','h','i','j',\n",
    "        'k','l','m','n','o','p','q','r','s','t',\n",
    "         'u','v','w','x','y','z','A','B','C','D',\n",
    "         'E','F','G','H','I','J','K','L','M','N',\n",
    "         'O','P','Q','R','S','T','U','V','W','X','Y','Z']"
   ]
  },
  {
   "cell_type": "code",
   "execution_count": 3,
   "id": "e5cb69b9",
   "metadata": {},
   "outputs": [],
   "source": [
    "numbers=['0','1','2','3','4','5','6','7','8','9']"
   ]
  },
  {
   "cell_type": "code",
   "execution_count": 4,
   "id": "a5c186c7",
   "metadata": {},
   "outputs": [],
   "source": [
    "symbols=['!','£','$','%','^','&','*','(',')','+']"
   ]
  },
  {
   "cell_type": "code",
   "execution_count": 5,
   "id": "ea839c3a",
   "metadata": {},
   "outputs": [],
   "source": []
  },
  {
   "cell_type": "code",
   "execution_count": 14,
   "id": "f1906c45",
   "metadata": {},
   "outputs": [
    {
     "name": "stdout",
     "output_type": "stream",
     "text": [
      "welcome to password generator!\n",
      "how many letters you want in your password3\n",
      "how many numbers you want in your password2\n",
      "how many symbols you want in your password1\n",
      "JW0\n"
     ]
    }
   ],
   "source": [
    "print(\"welcome to password generator!\")\n",
    "n_letters=int(input(\"how many letters you want in your password\"))\n",
    "n_numbers=int(input(\"how many numbers you want in your password\"))\n",
    "n_symbols=int(input(\"how many symbols you want in your password\"))\n",
    "password=\"\"\n",
    "for i in range(0,n_letters):#example:: we can also wright range(1, n_letters+1)\n",
    "    char=random.choice(letters)\n",
    "    password+=char\n",
    "for i in range(0,n_numbers):\n",
    "    char=random.choice(numbers)\n",
    "    password+=char\n",
    "for i in range(0,n_symbols):\n",
    "    char=random.choice(symbols)\n",
    "    password+=char\n",
    "print(password)   \n"
   ]
  },
  {
   "cell_type": "markdown",
   "id": "d492a99d",
   "metadata": {},
   "source": [
    "DIFFICULT MODE\n"
   ]
  },
  {
   "cell_type": "code",
   "execution_count": 13,
   "id": "46d6a330",
   "metadata": {},
   "outputs": [
    {
     "name": "stdout",
     "output_type": "stream",
     "text": [
      "welcome to password generator!\n",
      "how many letters you want in your password3\n",
      "how many numbers you want in your password2\n",
      "how many symbols you want in your password1\n",
      "['E', 'M', 'w', '5', '5', '(']\n",
      "['(', 'E', 'M', 'w', '5', '5']\n",
      "(EMw55\n"
     ]
    }
   ],
   "source": [
    "print(\"welcome to password generator!\")\n",
    "n_letters=int(input(\"how many letters you want in your password\"))\n",
    "n_numbers=int(input(\"how many numbers you want in your password\"))\n",
    "n_symbols=int(input(\"how many symbols you want in your password\"))\n",
    "password_list=[]\n",
    "for i in range(0,n_letters):\n",
    "    char=random.choice(letters)\n",
    "    password_list+=char\n",
    "for i in range(0,n_numbers):\n",
    "    char=random.choice(numbers)\n",
    "    password_list+=char\n",
    "for i in range(0,n_symbols):\n",
    "    char=random.choice(symbols)\n",
    "    password_list+=char\n",
    "print(password_list)   \n",
    "random.shuffle(password_list)\n",
    "print(password_list)\n",
    "password=\"\"\n",
    "for word in password_list:\n",
    "    password+=word\n",
    "print(password)"
   ]
  },
  {
   "cell_type": "code",
   "execution_count": null,
   "id": "ecb166af",
   "metadata": {},
   "outputs": [],
   "source": []
  },
  {
   "cell_type": "code",
   "execution_count": 7,
   "id": "6bcdb170",
   "metadata": {},
   "outputs": [
    {
     "name": "stdout",
     "output_type": "stream",
     "text": [
      "['A', 'B', 'C', 'D', 'E', 'F', 'G', 'H', 'I', 'J', 'K', 'L', 'M', 'N', 'O', 'P', 'Q', 'R', 'S', 'T', 'U', 'V', 'W', 'X', 'Y', 'Z', 'a', 'b', 'c', 'd', 'e', 'f', 'g', 'h', 'i', 'j', 'k', 'l', 'm', 'n', 'o', 'p', 'q', 'r', 's', 't', 'u', 'v', 'w', 'x', 'y', 'z']\n"
     ]
    }
   ],
   "source": [
    "letter=[]\n",
    "for i in range(65, 90+1):\n",
    "    letter+=chr(i)\n",
    "for i in range(97,122+1):\n",
    "    letter+=chr(i)\n",
    "print(letter)\n",
    "        \n"
   ]
  },
  {
   "cell_type": "code",
   "execution_count": 9,
   "id": "89fa65c5",
   "metadata": {},
   "outputs": [
    {
     "name": "stdout",
     "output_type": "stream",
     "text": [
      "['0', '1', '2', '3', '4', '5', '6', '7', '8', '9']\n"
     ]
    }
   ],
   "source": [
    "numbers=[]\n",
    "for i in range(48,57+1):\n",
    "    numbers+=chr(i)\n",
    "print(numbers)"
   ]
  },
  {
   "cell_type": "code",
   "execution_count": 10,
   "id": "a78ec203",
   "metadata": {},
   "outputs": [
    {
     "name": "stdout",
     "output_type": "stream",
     "text": [
      "['!', '\"', '#', '$', '%', '&', \"'\", '(', ')', '*', '+', ',', '-', '.', '/']\n"
     ]
    }
   ],
   "source": [
    "symbols=[]\n",
    "for i in range(33,47+1):\n",
    "    symbols+=chr(i)\n",
    "print(symbols)"
   ]
  },
  {
   "cell_type": "code",
   "execution_count": 20,
   "id": "0f8d9fff",
   "metadata": {},
   "outputs": [
    {
     "name": "stdout",
     "output_type": "stream",
     "text": [
      "welcome to password generator\n",
      "please enter the length of characters4\n",
      "please enter the length of numbers3\n",
      "pleaswe enter the length of the symbols2\n",
      "['H', 'M', '5', 'J', '6', '\"', '9', 'N', '.']\n",
      "HM5J6\"9N.\n"
     ]
    }
   ],
   "source": [
    "import random\n",
    "print(\"welcome to password generator\")\n",
    "password=[]\n",
    "n_of_letters=int(input(\"please enter the length of characters\"))\n",
    "n_of_numbers=int(input(\"please enter the length of numbers\"))\n",
    "n_of_symbols=int(input(\"pleaswe enter the length of the symbols\"))\n",
    "for i in range(0, n_of_letters):\n",
    "    char=random.choice(letter)\n",
    "    password+=char\n",
    "for i in range(0,n_of_numbers):\n",
    "    char=random.choice(numbers)\n",
    "    password+=char\n",
    "for i in range(0,n_of_symbols):\n",
    "    char=random.choice(symbols)\n",
    "    password+=char\n",
    "\n",
    "random.shuffle(password)\n",
    "print(password)\n",
    "g_p=\"\"\n",
    "for i in password:\n",
    "    g_p+=i\n",
    "print(g_p)"
   ]
  },
  {
   "cell_type": "code",
   "execution_count": null,
   "id": "b6f53f9c",
   "metadata": {},
   "outputs": [],
   "source": []
  },
  {
   "cell_type": "code",
   "execution_count": null,
   "id": "d0964425",
   "metadata": {},
   "outputs": [],
   "source": []
  }
 ],
 "metadata": {
  "kernelspec": {
   "display_name": "Python 3 (ipykernel)",
   "language": "python",
   "name": "python3"
  },
  "language_info": {
   "codemirror_mode": {
    "name": "ipython",
    "version": 3
   },
   "file_extension": ".py",
   "mimetype": "text/x-python",
   "name": "python",
   "nbconvert_exporter": "python",
   "pygments_lexer": "ipython3",
   "version": "3.10.9"
  }
 },
 "nbformat": 4,
 "nbformat_minor": 5
}
