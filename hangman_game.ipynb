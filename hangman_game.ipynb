{
 "cells": [
  {
   "cell_type": "markdown",
   "id": "03f583f9",
   "metadata": {},
   "source": [
    "BASIC HANGMAN GAME"
   ]
  },
  {
   "cell_type": "code",
   "execution_count": 14,
   "id": "11f26c6e",
   "metadata": {},
   "outputs": [
    {
     "name": "stdout",
     "output_type": "stream",
     "text": [
      "orange\n",
      "enter a lettera\n",
      "['_', '_', 'a', '_', '_', '_']\n",
      "enter a letterh\n",
      "enter a lettere\n",
      "['_', '_', 'a', '_', '_', 'e']\n",
      "enter a letterw\n",
      "enter a letterw\n",
      "enter a letterw\n",
      "enter a letterw\n",
      "enter a letterw\n",
      "you loose!!\n"
     ]
    }
   ],
   "source": [
    "import random\n",
    "words=[\"banana\",\"apple\",\"potato\",\"orange\"]\n",
    "live=6\n",
    "chosen_word=random.choice(words)\n",
    "print(chosen_word)\n",
    "display=[]\n",
    "\n",
    "for i in range(len(chosen_word)):\n",
    "    display+=\"_\"\n",
    "game_over=False\n",
    "while not game_over:\n",
    "    guessed_letter=input(\"enter a letter\")\n",
    "    for position in range(len(chosen_word)):\n",
    "        letter=chosen_word[position]\n",
    "        if letter==guessed_letter:\n",
    "            display[position]=guessed_letter\n",
    "            print(display)\n",
    "    if guessed_letter not in chosen_word:\n",
    "        live-=1\n",
    "        if live==0:\n",
    "            game_over=True\n",
    "            print(\"you loose!!\")\n",
    "    if \"_\"not in display:\n",
    "        game_over=True\n",
    "        print(\"you Win!!\")\n"
   ]
  },
  {
   "cell_type": "code",
   "execution_count": 1,
   "id": "db260804",
   "metadata": {},
   "outputs": [
    {
     "name": "stdout",
     "output_type": "stream",
     "text": [
      "65+90\n"
     ]
    }
   ],
   "source": [
    "print(\"65+90\")"
   ]
  },
  {
   "cell_type": "code",
   "execution_count": 2,
   "id": "5d2c468c",
   "metadata": {},
   "outputs": [
    {
     "name": "stdout",
     "output_type": "stream",
     "text": [
      "height\n"
     ]
    }
   ],
   "source": [
    "print(\"height\")"
   ]
  },
  {
   "cell_type": "code",
   "execution_count": 3,
   "id": "88f49ac7",
   "metadata": {},
   "outputs": [
    {
     "name": "stdout",
     "output_type": "stream",
     "text": [
      "0.25\n"
     ]
    }
   ],
   "source": [
    "print(4/16)"
   ]
  },
  {
   "cell_type": "code",
   "execution_count": null,
   "id": "384b7eba",
   "metadata": {},
   "outputs": [],
   "source": []
  }
 ],
 "metadata": {
  "kernelspec": {
   "display_name": "Python 3 (ipykernel)",
   "language": "python",
   "name": "python3"
  },
  "language_info": {
   "codemirror_mode": {
    "name": "ipython",
    "version": 3
   },
   "file_extension": ".py",
   "mimetype": "text/x-python",
   "name": "python",
   "nbconvert_exporter": "python",
   "pygments_lexer": "ipython3",
   "version": "3.10.9"
  }
 },
 "nbformat": 4,
 "nbformat_minor": 5
}
